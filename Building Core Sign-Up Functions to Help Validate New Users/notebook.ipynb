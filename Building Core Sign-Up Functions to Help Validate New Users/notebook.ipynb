{
 "cells": [
  {
   "cell_type": "markdown",
   "id": "cad7ef7c-554e-4871-a178-fbbbae7b2f7b",
   "metadata": {},
   "source": [
    "![login_img](login_img.jpg)\n"
   ]
  },
  {
   "cell_type": "markdown",
   "id": "4a8145cb-8f2c-4133-b8d7-462b5310c6ea",
   "metadata": {},
   "source": [
    "You recently joined a small startup as a junior developer. The product managers have come to you for help improving new user sign-ups for the company's flagship mobile app.\n",
    "\n",
    "There are lots of invalid and incomplete sign-up attempts crashing the app. Before creating new accounts, you suggest standardizing validation checks by writing reusable Python functions to validate names, emails, passwords, etc. The managers love this idea and task you with coding core validation functions for improving sign-ups. It's your job to write these custom functions to check all user inputs to ensure they meet minimum criteria before account creation to reduce crashes."
   ]
  },
  {
   "cell_type": "code",
   "execution_count": null,
   "id": "37988e6b-da88-4ca4-846c-06d7f8e7d740",
   "metadata": {
    "executionCancelledAt": null,
    "executionTime": 9,
    "lastExecutedAt": 1745605551833,
    "lastExecutedByKernel": "70035b01-ba2e-4a57-9768-efe856dc4776",
    "lastScheduledRunId": null,
    "lastSuccessfullyExecutedCode": "# Re-run this cell\n# Preloaded data for validating email domain.\ntop_level_domains = [\n    \".org\",\n    \".net\",\n    \".edu\",\n    \".ac\",\n    \".gov\",\n    \".com\",\n    \".io\"\n]"
   },
   "outputs": [],
   "source": [
    "top_level_domains = [\n",
    "    \".org\",\n",
    "    \".net\",\n",
    "    \".edu\",\n",
    "    \".ac\",\n",
    "    \".gov\",\n",
    "    \".com\",\n",
    "    \".io\"\n",
    "]"
   ]
  },
  {
   "cell_type": "code",
   "execution_count": null,
   "id": "178a7c62-d560-467e-8b64-c434db4eb255",
   "metadata": {
    "executionCancelledAt": null,
    "executionTime": 44,
    "lastExecutedAt": 1745605551877,
    "lastExecutedByKernel": "70035b01-ba2e-4a57-9768-efe856dc4776",
    "lastScheduledRunId": null,
    "lastSuccessfullyExecutedCode": "# Start coding here. Use as many cells as you need.\ndef validate_name(name):\n    if type(name) == str and len(name) > 2:\n        return True\n    return False\n\ndef validate_email(email):\n    if email.find('@') == -1:\n        return False\n    for domain in top_level_domains:\n        if domain in email:\n            return True\n    return False"
   },
   "outputs": [],
   "source": [
    "def validate_name(name):\n",
    "    if type(name) == str and len(name) > 2:\n",
    "        return True\n",
    "    return False\n",
    "\n",
    "def validate_email(email):\n",
    "    if email.find('@') == -1:\n",
    "        return False\n",
    "    for domain in top_level_domains:\n",
    "        if domain in email:\n",
    "            return True\n",
    "    return False"
   ]
  }
 ],
 "metadata": {
  "colab": {
   "name": "Welcome to DataCamp Workspaces.ipynb",
   "provenance": []
  },
  "kernelspec": {
   "display_name": "Python 3 (ipykernel)",
   "language": "python",
   "name": "python3"
  },
  "language_info": {
   "codemirror_mode": {
    "name": "ipython",
    "version": 3
   },
   "file_extension": ".py",
   "mimetype": "text/x-python",
   "name": "python",
   "nbconvert_exporter": "python",
   "pygments_lexer": "ipython3",
   "version": "3.8.10"
  }
 },
 "nbformat": 4,
 "nbformat_minor": 5
}
