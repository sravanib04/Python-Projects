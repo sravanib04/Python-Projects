{
 "cells": [
  {
   "cell_type": "markdown",
   "id": "d3c7962e-43b7-458f-a36d-4eac0ad6cf3f",
   "metadata": {},
   "source": [
    "![A laptop screen with a person typing the word 'seo'](work_laptop.png)\n"
   ]
  },
  {
   "cell_type": "markdown",
   "id": "f5958533-c625-43cf-966d-589884e29d7e",
   "metadata": {},
   "source": [
    "Imagine working for a digital marketing agency, and the agency is approached by a massive online furniture retailer. They want to test your skills at creating large campaigns for all of their website. You are tasked with creating a prototype set of keywords for search campaigns for their sofas section. The client says that they want you to generate keywords for the following products:\n",
    "\n",
    "- sofas\n",
    "- convertible sofas\n",
    "- love seats\n",
    "- recliners\n",
    "- sofa beds\n",
    "\n",
    "The client is a low-cost retailer, offering many promotions and discounts. You will need to focus on such keywords. You will also need to move away from luxury keywords and topics, as you are targeting price-sensitive customers. Because they are going to be tight on budget, it would be good to focus on a tightly targeted set of keywords and make sure they are all set to exact and phrase match.\n",
    "\n",
    "Based on the brief above you will first need to generate a list of words, that together with the products given above would make for good keywords. Here are some examples:\n",
    "\n",
    "- Products: sofas, recliners\n",
    "- Words: buy, prices\n",
    "\n",
    "The resulting keywords: 'buy sofas', 'sofas buy', 'buy recliners', 'recliners buy', 'prices sofas', 'sofas prices', 'prices recliners', 'recliners prices'.\n",
    "\n",
    "As a final result, you want to have a DataFrame that looks like this:\n",
    "\n",
    "<table>\n",
    "<thead>\n",
    "<tr>\n",
    "<th>Campaign</th>\n",
    "<th>Ad Group</th>\n",
    "<th>Keyword</th>\n",
    "<th>Criterion Type</th>\n",
    "</tr>\n",
    "</thead>\n",
    "<tbody>\n",
    "<tr>\n",
    "<td>Campaign1</td>\n",
    "<td>AdGroup_1</td>\n",
    "<td>keyword 1a</td>\n",
    "<td>Exact</td>\n",
    "</tr>\n",
    "<tr>\n",
    "<td>Campaign1</td>\n",
    "<td>AdGroup_1</td>\n",
    "<td>keyword 1b</td>\n",
    "<td>Exact</td>\n",
    "</tr>\n",
    "<tr>\n",
    "<td>Campaign1</td>\n",
    "<td>AdGroup_2</td>\n",
    "<td>keyword 2a</td>\n",
    "<td>Exact</td>\n",
    "</tr>\n",
    "</tbody>\n",
    "</table>\n"
   ]
  },
  {
   "cell_type": "code",
   "execution_count": 1,
   "id": "2c9becd8-f51c-4a11-9c10-351d1c058e3a",
   "metadata": {
    "executionCancelledAt": null,
    "executionTime": 11,
    "lastExecutedAt": 1746731498427,
    "lastExecutedByKernel": "eb285b68-f1a7-4145-bfda-a32cb5978418",
    "lastScheduledRunId": null,
    "lastSuccessfullyExecutedCode": "import pandas as pd",
    "outputsMetadata": {
     "0": {
      "height": 37,
      "type": "stream"
     }
    }
   },
   "outputs": [],
   "source": [
    "import pandas as pd"
   ]
  },
  {
   "cell_type": "code",
   "execution_count": 2,
   "id": "99fd32ed-d7d9-42f6-9100-88723104da92",
   "metadata": {
    "executionCancelledAt": null,
    "executionTime": 53,
    "lastExecutedAt": 1746731498480,
    "lastExecutedByKernel": "eb285b68-f1a7-4145-bfda-a32cb5978418",
    "lastScheduledRunId": null,
    "lastSuccessfullyExecutedCode": "product_names = ['sofas', 'convertible sofas', 'love seats', 'recliners', 'sofa beds']\nkey_words = ['price', 'buy', 'shop', 'discount', 'promo', 'promotion', 'sale']\n\nkeywords_list = []\nfor product in product_names:\n    for word in key_words:\n        keywords_list.append([product, product + ' ' + word])\n        keywords_list.append([product, word + ' ' + product])\n\nkeywords_df = pd.DataFrame(keywords_list, columns=['Ad Group', 'Keyword'])\nkeywords_df['Campaign'] = \"SEM_Sofas\"\nkeywords_df['Criterion Type'] = \"Exact\"\n\nkeywords_df.to_csv('keywords.csv')"
   },
   "outputs": [],
   "source": [
    "product_names = ['sofas', 'convertible sofas', 'love seats', 'recliners', 'sofa beds']\n",
    "key_words = ['price', 'buy', 'shop', 'discount', 'promo', 'promotion', 'sale']\n",
    "\n",
    "keywords_list = []\n",
    "for product in product_names:\n",
    "    for word in key_words:\n",
    "        keywords_list.append([product, product + ' ' + word])\n",
    "        keywords_list.append([product, word + ' ' + product])\n",
    "\n",
    "keywords_df = pd.DataFrame(keywords_list, columns=['Ad Group', 'Keyword'])\n",
    "keywords_df['Campaign'] = \"SEM_Sofas\"\n",
    "keywords_df['Criterion Type'] = \"Exact\"\n",
    "\n",
    "keywords_df.to_csv('keywords.csv')"
   ]
  }
 ],
 "metadata": {
  "colab": {
   "name": "Welcome to DataCamp Workspaces.ipynb",
   "provenance": []
  },
  "kernelspec": {
   "display_name": "Conda",
   "language": "python",
   "name": "base"
  },
  "language_info": {
   "codemirror_mode": {
    "name": "ipython",
    "version": 3
   },
   "file_extension": ".py",
   "mimetype": "text/x-python",
   "name": "python",
   "nbconvert_exporter": "python",
   "pygments_lexer": "ipython3",
   "version": "3.12.7"
  }
 },
 "nbformat": 4,
 "nbformat_minor": 5
}
