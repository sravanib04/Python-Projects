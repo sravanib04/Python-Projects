{
 "cells": [
  {
   "cell_type": "markdown",
   "id": "fe7ecb8d-ad0b-40c0-b404-8b4c339d1c8b",
   "metadata": {},
   "source": [
    "![insomnia](insomnia.jpg)\n"
   ]
  },
  {
   "cell_type": "markdown",
   "id": "04929432-e076-40ef-b2a7-8e67dc7ba1a3",
   "metadata": {},
   "source": [
    "Your client, SleepInc, has shared anonymized sleep data from their hot new sleep tracking app SleepScope. As their data science consultant, your mission is to analyze the lifestyle survey data with Python to discover relationships between exercise, gender, occupation, and sleep quality. See if you can identify patterns leading to insights on sleep quality.\n",
    "\n",
    "## 💾 The data: sleep_health_data.csv\n",
    "\n",
    "SleepInc has provided you with an anonymized dataset of sleep and lifestyle metrics for 374 individuals. This dataset contains average values for each person calculated over the past six months. The data is saved as `sleep_health_data.csv`.\n",
    "\n",
    "The dataset includes 13 columns covering sleep duration, quality, disorders, exercise, stress, diet, demographics, and other factors related to sleep health. \n",
    "\n",
    "| Column | Description |\n",
    "|---------|----------------------------------------|  \n",
    "| `Person ID` | An identifier for each individual. |\n",
    "| `Gender` | The gender of the person (Male/Female). |  \n",
    "| `Age` | The age of the person in years. |\n",
    "| `Occupation` | The occupation or profession of the person. |\n",
    "| `Sleep Duration (hours)` | The average number of hours the person sleeps per day. |\n",
    "| `Quality of Sleep (scale: 1-10)` | A subjective rating of the quality of sleep, ranging from 1 to 10. |\n",
    "| `Physical Activity Level (minutes/day)` | The average number of minutes the person engages in physical activity daily. |  \n",
    "| `Stress Level (scale: 1-10)` | A subjective rating of the stress level experienced by the person, ranging from 1 to 10. |\n",
    "| `BMI Category` | The BMI category of the person (e.g., Underweight, Normal, Overweight). |\n",
    "| `Blood Pressure (systolic/diastolic)` | The average blood pressure measurement of the person, indicated as systolic pressure over diastolic pressure. |\n",
    "| `Heart Rate (bpm)` | The average resting heart rate of the person in beats per minute. |\n",
    "| `Daily Steps` | The average number of steps the person takes per day. |\n",
    "| `Sleep Disorder` | The presence or absence of a sleep disorder in the person (None, Insomnia, Sleep Apnea). |"
   ]
  },
  {
   "cell_type": "code",
   "execution_count": null,
   "id": "a622f61f-54d5-468a-83b6-41f0ff404278",
   "metadata": {
    "executionCancelledAt": null,
    "executionTime": 23,
    "lastExecutedAt": 1746730401003,
    "lastExecutedByKernel": "e5a9d85e-9df9-414a-b7db-64cea9e26d52",
    "lastScheduledRunId": null,
    "lastSuccessfullyExecutedCode": "# Start coding here\n# Use as many cells as you need\nimport pandas as pd\n\ndf = pd.read_csv('sleep_health_data.csv')\n\nsleep_duration = df.groupby('Occupation')['Sleep Duration'].mean()\nlowest_sleep_occ = sleep_duration.sort_values().index[0]\n\nsleep_quality = df.groupby('Occupation')['Quality of Sleep'].mean()\nlowest_sleep_quality_occ = sleep_quality.sort_values().index[0]\n\nif lowest_sleep_occ == lowest_sleep_quality_occ:\n  same_occ = True\nelse:\n  same_occ = False\n\nnormal_bmi = df[(df[\"BMI Category\"] == \"Normal\") & (df[\"Sleep Disorder\"] == \"Insomnia\")]\ntotal_normal_bmi = len(df[df[\"BMI Category\"] == \"Normal\"])\nnormal_bmi_insomnia_ratio = round(len(normal_bmi)/total_normal_bmi, 2)\n\noverweight_bmi = df[(df[\"BMI Category\"] == \"Overweight\") & (df[\"Sleep Disorder\"] == \"Insomnia\")]\ntotal_overweight_bmi = len(df[df[\"BMI Category\"] == \"Overweight\"])\noverweight_bmi_insomnia_ratio = round(len(overweight_bmi)/total_overweight_bmi, 2)\n\nobese_bmi = df[(df[\"BMI Category\"] == \"Obese\") & (df[\"Sleep Disorder\"] == \"Insomnia\")]\ntotal_obese_bmi = len(df[df[\"BMI Category\"] == \"Obese\"])\nobese_bmi_insomnia_ratio = round(len(obese_bmi)/total_obese_bmi, 2)\n\nbmi_insomnia_ratios = {\n    \"Normal\": normal_bmi_insomnia_ratio,\n    \"Overweight\": overweight_bmi_insomnia_ratio,\n    \"Obese\": obese_bmi_insomnia_ratio\n    \n}"
   },
   "outputs": [],
   "source": [
    "import pandas as pd\n",
    "\n",
    "df = pd.read_csv('sleep_health_data.csv')\n",
    "\n",
    "sleep_duration = df.groupby('Occupation')['Sleep Duration'].mean()\n",
    "lowest_sleep_occ = sleep_duration.sort_values().index[0]\n",
    "\n",
    "sleep_quality = df.groupby('Occupation')['Quality of Sleep'].mean()\n",
    "lowest_sleep_quality_occ = sleep_quality.sort_values().index[0]\n",
    "\n",
    "if lowest_sleep_occ == lowest_sleep_quality_occ:\n",
    "  same_occ = True\n",
    "else:\n",
    "  same_occ = False\n",
    "\n",
    "normal_bmi = df[(df[\"BMI Category\"] == \"Normal\") & (df[\"Sleep Disorder\"] == \"Insomnia\")]\n",
    "total_normal_bmi = len(df[df[\"BMI Category\"] == \"Normal\"])\n",
    "normal_bmi_insomnia_ratio = round(len(normal_bmi)/total_normal_bmi, 2)\n",
    "\n",
    "overweight_bmi = df[(df[\"BMI Category\"] == \"Overweight\") & (df[\"Sleep Disorder\"] == \"Insomnia\")]\n",
    "total_overweight_bmi = len(df[df[\"BMI Category\"] == \"Overweight\"])\n",
    "overweight_bmi_insomnia_ratio = round(len(overweight_bmi)/total_overweight_bmi, 2)\n",
    "\n",
    "obese_bmi = df[(df[\"BMI Category\"] == \"Obese\") & (df[\"Sleep Disorder\"] == \"Insomnia\")]\n",
    "total_obese_bmi = len(df[df[\"BMI Category\"] == \"Obese\"])\n",
    "obese_bmi_insomnia_ratio = round(len(obese_bmi)/total_obese_bmi, 2)\n",
    "\n",
    "bmi_insomnia_ratios = {\n",
    "    \"Normal\": normal_bmi_insomnia_ratio,\n",
    "    \"Overweight\": overweight_bmi_insomnia_ratio,\n",
    "    \"Obese\": obese_bmi_insomnia_ratio\n",
    "    \n",
    "}"
   ]
  }
 ],
 "metadata": {
  "colab": {
   "name": "Welcome to DataCamp Workspaces.ipynb",
   "provenance": []
  },
  "kernelspec": {
   "display_name": "Conda",
   "language": "python",
   "name": "base"
  },
  "language_info": {
   "codemirror_mode": {
    "name": "ipython",
    "version": 3
   },
   "file_extension": ".py",
   "mimetype": "text/x-python",
   "name": "python",
   "nbconvert_exporter": "python",
   "pygments_lexer": "ipython3",
   "version": "3.12.7"
  }
 },
 "nbformat": 4,
 "nbformat_minor": 5
}
