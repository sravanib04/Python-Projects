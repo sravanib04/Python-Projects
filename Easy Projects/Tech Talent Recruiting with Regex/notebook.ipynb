{
 "cells": [
  {
   "cell_type": "markdown",
   "id": "eeece94d-8edf-4a6a-9c74-f6c008be65f3",
   "metadata": {},
   "source": [
    "![](image.jpg)\n",
    "\n",
    "As a Data Analyst at a leading global HR consultancy, your mission is to delve into an extensive database of resumes to identify suitable candidates for tech-focused roles. This task involves using regular expressions to extract key data points and applying data preprocessing techniques to organize this information effectively.\n",
    "\n",
    "## Dataset Summary\n",
    "\n",
    "`resumes.csv`\n",
    "\n",
    "| Column      | Data Type | Description                                                  |\n",
    "|-------------|-----------|--------------------------------------------------------------|\n",
    "| `ID`        | float     | Unique identifier for each resume.                           |\n",
    "| `Resume_str`| object    | Full text of the resume, rich with details for analysis.     |\n",
    "| `Category`  | object    | Job category of the resume, indicating the field of expertise. |\n",
    "\n",
    "## Let's Get Started!\n",
    "\n",
    "Embark on this analytical journey to harness advanced data analysis techniques for real-world HR challenges. This project is your chance to impact the hiring process by ensuring that tech talent finds their ideal job. Let's begin this exciting journey!\n"
   ]
  },
  {
   "cell_type": "code",
   "execution_count": 1,
   "id": "bc9f99aa-76ac-48f2-9447-6af7e2ab018f",
   "metadata": {
    "executionCancelledAt": null,
    "executionTime": 90,
    "lastExecutedAt": 1746670389618,
    "lastExecutedByKernel": "c4713362-bcc2-4405-bf01-18becf9e0465",
    "lastScheduledRunId": null,
    "lastSuccessfullyExecutedCode": "import pandas as pd\nimport re\n\n# Load the resume dataset from a CSV file into a DataFrame\nresumes = pd.read_csv('resumes.csv')\nresumes.sample(3)",
    "outputsMetadata": {
     "0": {
      "columns": {
       "Resume_str": {
        "wrap": false
       }
      },
      "height": 501,
      "tableState": {},
      "type": "dataFrame"
     }
    }
   },
   "outputs": [
    {
     "data": {
      "text/html": [
       "<div>\n",
       "<style scoped>\n",
       "    .dataframe tbody tr th:only-of-type {\n",
       "        vertical-align: middle;\n",
       "    }\n",
       "\n",
       "    .dataframe tbody tr th {\n",
       "        vertical-align: top;\n",
       "    }\n",
       "\n",
       "    .dataframe thead th {\n",
       "        text-align: right;\n",
       "    }\n",
       "</style>\n",
       "<table border=\"1\" class=\"dataframe\">\n",
       "  <thead>\n",
       "    <tr style=\"text-align: right;\">\n",
       "      <th></th>\n",
       "      <th>ID</th>\n",
       "      <th>Resume_str</th>\n",
       "      <th>Category</th>\n",
       "    </tr>\n",
       "  </thead>\n",
       "  <tbody>\n",
       "    <tr>\n",
       "      <th>1284</th>\n",
       "      <td>11270462.0</td>\n",
       "      <td>SOCIAL MEDIA MANAGER         Summary ...</td>\n",
       "      <td>DIGITAL-MEDIA</td>\n",
       "    </tr>\n",
       "    <tr>\n",
       "      <th>397</th>\n",
       "      <td>11336022.0</td>\n",
       "      <td>LEAD TEACHER       Summary    To secu...</td>\n",
       "      <td>TEACHER</td>\n",
       "    </tr>\n",
       "    <tr>\n",
       "      <th>801</th>\n",
       "      <td>19037403.0</td>\n",
       "      <td>PROFESSIONAL FITNESS TRAINER, GROUP I...</td>\n",
       "      <td>FITNESS</td>\n",
       "    </tr>\n",
       "  </tbody>\n",
       "</table>\n",
       "</div>"
      ],
      "text/plain": [
       "              ID                                         Resume_str  \\\n",
       "1284  11270462.0           SOCIAL MEDIA MANAGER         Summary ...   \n",
       "397   11336022.0           LEAD TEACHER       Summary    To secu...   \n",
       "801   19037403.0           PROFESSIONAL FITNESS TRAINER, GROUP I...   \n",
       "\n",
       "           Category  \n",
       "1284  DIGITAL-MEDIA  \n",
       "397         TEACHER  \n",
       "801         FITNESS  "
      ]
     },
     "execution_count": 1,
     "metadata": {},
     "output_type": "execute_result"
    }
   ],
   "source": [
    "import pandas as pd\n",
    "import re\n",
    "\n",
    "# Load the resume dataset from a CSV file into a DataFrame\n",
    "resumes = pd.read_csv('resumes.csv')\n",
    "resumes.sample(3)"
   ]
  },
  {
   "cell_type": "code",
   "execution_count": 2,
   "id": "cbdfa709-66fa-49e0-8986-b6b05d664d37",
   "metadata": {
    "executionCancelledAt": null,
    "executionTime": 315,
    "lastExecutedAt": 1746670389933,
    "lastExecutedByKernel": "c4713362-bcc2-4405-bf01-18becf9e0465",
    "lastScheduledRunId": null,
    "lastSuccessfullyExecutedCode": "import re\n\njob_title_regex = r\"^[A-Z\\s\\.\\,\\-]+\\b\"\ntech_skills_regex = r\"\\b(python|sql|r|excel)\\b\"\neducation_regex = r\"\\b(PhD|Master|Bachelor)\\b\"\n\njob_titles = []\ntech_skills = []\neducation = []\nfor resume in resumes['Resume_str']:\n    \n    job_title_match = re.search(job_title_regex, resume)\n    if job_title_match is not None:\n        job_title = job_title_match.group(0).strip()\n    else:\n        job_title = \"\"\n    job_titles.append(job_title)\n\n    tech_skill_match = re.search(tech_skills_regex, resume)\n    if tech_skill_match is not None:\n        tech_skill = tech_skill_match.group(0).strip()\n    else:\n        tech_skill = \"\"\n    tech_skills.append(tech_skill)\n\n    education_match = re.search(education_regex, resume)\n    if education_match is not None:\n        edu = education_match.group(0).strip()\n    else:\n        edu = \"\"\n    education.append(edu)\n\nresumes['job_title'] = job_titles\nresumes['tech_skills'] = tech_skills\nresumes['education'] = education\n\nresumes_filtered = resumes[(resumes['job_title'] != \"\") & (resumes['tech_skills'] != \"\") & (resumes['education'] != \"\")]\n\ncandidates_df = resumes_filtered[['ID', 'job_title', 'tech_skills', 'education']]\ncandidates_df.columns = candidates_df.columns.str.lower()\ncandidates_df.dropna(inplace=True)"
   },
   "outputs": [
    {
     "name": "stderr",
     "output_type": "stream",
     "text": [
      "/var/folders/bn/0svqy8zn1qlccqb0dt__9dx40000gn/T/ipykernel_11202/1035305082.py:41: SettingWithCopyWarning: \n",
      "A value is trying to be set on a copy of a slice from a DataFrame\n",
      "\n",
      "See the caveats in the documentation: https://pandas.pydata.org/pandas-docs/stable/user_guide/indexing.html#returning-a-view-versus-a-copy\n",
      "  candidates_df.dropna(inplace=True)\n"
     ]
    },
    {
     "data": {
      "text/html": [
       "<div>\n",
       "<style scoped>\n",
       "    .dataframe tbody tr th:only-of-type {\n",
       "        vertical-align: middle;\n",
       "    }\n",
       "\n",
       "    .dataframe tbody tr th {\n",
       "        vertical-align: top;\n",
       "    }\n",
       "\n",
       "    .dataframe thead th {\n",
       "        text-align: right;\n",
       "    }\n",
       "</style>\n",
       "<table border=\"1\" class=\"dataframe\">\n",
       "  <thead>\n",
       "    <tr style=\"text-align: right;\">\n",
       "      <th></th>\n",
       "      <th>id</th>\n",
       "      <th>job_title</th>\n",
       "      <th>tech_skills</th>\n",
       "      <th>education</th>\n",
       "    </tr>\n",
       "  </thead>\n",
       "  <tbody>\n",
       "    <tr>\n",
       "      <th>70</th>\n",
       "      <td>20993320.0</td>\n",
       "      <td>HR COORDINATOR</td>\n",
       "      <td>r</td>\n",
       "      <td>Master</td>\n",
       "    </tr>\n",
       "    <tr>\n",
       "      <th>71</th>\n",
       "      <td>14640322.0</td>\n",
       "      <td>HR GENERALIST</td>\n",
       "      <td>excel</td>\n",
       "      <td>Bachelor</td>\n",
       "    </tr>\n",
       "    <tr>\n",
       "      <th>80</th>\n",
       "      <td>25724495.0</td>\n",
       "      <td>REGIONAL HR MANAGER</td>\n",
       "      <td>excel</td>\n",
       "      <td>Bachelor</td>\n",
       "    </tr>\n",
       "    <tr>\n",
       "      <th>114</th>\n",
       "      <td>11919526.0</td>\n",
       "      <td>E-LEARNING DESIGNER</td>\n",
       "      <td>r</td>\n",
       "      <td>Master</td>\n",
       "    </tr>\n",
       "    <tr>\n",
       "      <th>213</th>\n",
       "      <td>93301686.0</td>\n",
       "      <td>LEAD INSTRUCTIONAL DESIGNER</td>\n",
       "      <td>excel</td>\n",
       "      <td>Bachelor</td>\n",
       "    </tr>\n",
       "  </tbody>\n",
       "</table>\n",
       "</div>"
      ],
      "text/plain": [
       "             id                    job_title tech_skills education\n",
       "70   20993320.0               HR COORDINATOR           r    Master\n",
       "71   14640322.0                HR GENERALIST       excel  Bachelor\n",
       "80   25724495.0          REGIONAL HR MANAGER       excel  Bachelor\n",
       "114  11919526.0          E-LEARNING DESIGNER           r    Master\n",
       "213  93301686.0  LEAD INSTRUCTIONAL DESIGNER       excel  Bachelor"
      ]
     },
     "execution_count": 2,
     "metadata": {},
     "output_type": "execute_result"
    }
   ],
   "source": [
    "import re\n",
    "\n",
    "job_title_regex = r\"^[A-Z\\s\\.\\,\\-]+\\b\"\n",
    "tech_skills_regex = r\"\\b(python|sql|r|excel)\\b\"\n",
    "education_regex = r\"\\b(PhD|Master|Bachelor)\\b\"\n",
    "\n",
    "job_titles = []\n",
    "tech_skills = []\n",
    "education = []\n",
    "for resume in resumes['Resume_str']:\n",
    "    \n",
    "    job_title_match = re.search(job_title_regex, resume)\n",
    "    if job_title_match is not None:\n",
    "        job_title = job_title_match.group(0).strip()\n",
    "    else:\n",
    "        job_title = \"\"\n",
    "    job_titles.append(job_title)\n",
    "\n",
    "    tech_skill_match = re.search(tech_skills_regex, resume)\n",
    "    if tech_skill_match is not None:\n",
    "        tech_skill = tech_skill_match.group(0).strip()\n",
    "    else:\n",
    "        tech_skill = \"\"\n",
    "    tech_skills.append(tech_skill)\n",
    "\n",
    "    education_match = re.search(education_regex, resume)\n",
    "    if education_match is not None:\n",
    "        edu = education_match.group(0).strip()\n",
    "    else:\n",
    "        edu = \"\"\n",
    "    education.append(edu)\n",
    "\n",
    "resumes['job_title'] = job_titles\n",
    "resumes['tech_skills'] = tech_skills\n",
    "resumes['education'] = education\n",
    "\n",
    "resumes_filtered = resumes[(resumes['job_title'] != \"\") & (resumes['tech_skills'] != \"\") & (resumes['education'] != \"\")]\n",
    "\n",
    "candidates_df = resumes_filtered[['ID', 'job_title', 'tech_skills', 'education']]\n",
    "candidates_df.columns = candidates_df.columns.str.lower()\n",
    "candidates_df.dropna(inplace=True)\n",
    "\n",
    "candidates_df.head()"
   ]
  }
 ],
 "metadata": {
  "colab": {
   "name": "Welcome to DataCamp Workspaces.ipynb",
   "provenance": []
  },
  "editor": "DataLab",
  "kernelspec": {
   "display_name": "Conda",
   "language": "python",
   "name": "base"
  },
  "language_info": {
   "codemirror_mode": {
    "name": "ipython",
    "version": 3
   },
   "file_extension": ".py",
   "mimetype": "text/x-python",
   "name": "python",
   "nbconvert_exporter": "python",
   "pygments_lexer": "ipython3",
   "version": "3.12.7"
  }
 },
 "nbformat": 4,
 "nbformat_minor": 5
}
